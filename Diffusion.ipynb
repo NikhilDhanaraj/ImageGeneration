{
  "nbformat": 4,
  "nbformat_minor": 0,
  "metadata": {
    "colab": {
      "provenance": [],
      "gpuType": "T4"
    },
    "kernelspec": {
      "name": "python3",
      "display_name": "Python 3"
    },
    "language_info": {
      "name": "python"
    },
    "accelerator": "GPU",
    "widgets": {
      "application/vnd.jupyter.widget-state+json": {
        "c2f9c38c9d19432da053a46e7d04a32d": {
          "model_module": "@jupyter-widgets/controls",
          "model_name": "HBoxModel",
          "model_module_version": "1.5.0",
          "state": {
            "_dom_classes": [],
            "_model_module": "@jupyter-widgets/controls",
            "_model_module_version": "1.5.0",
            "_model_name": "HBoxModel",
            "_view_count": null,
            "_view_module": "@jupyter-widgets/controls",
            "_view_module_version": "1.5.0",
            "_view_name": "HBoxView",
            "box_style": "",
            "children": [
              "IPY_MODEL_8ff3c3dfb15d4bd5af0f2d8b504622f7",
              "IPY_MODEL_0c04f81f58bd43a5b558f0d6f7f620f8",
              "IPY_MODEL_9589198a80a04626aa5a7dcfbd6574b8"
            ],
            "layout": "IPY_MODEL_546aad93c7034cf0a7c6e350c92541d2"
          }
        },
        "8ff3c3dfb15d4bd5af0f2d8b504622f7": {
          "model_module": "@jupyter-widgets/controls",
          "model_name": "HTMLModel",
          "model_module_version": "1.5.0",
          "state": {
            "_dom_classes": [],
            "_model_module": "@jupyter-widgets/controls",
            "_model_module_version": "1.5.0",
            "_model_name": "HTMLModel",
            "_view_count": null,
            "_view_module": "@jupyter-widgets/controls",
            "_view_module_version": "1.5.0",
            "_view_name": "HTMLView",
            "description": "",
            "description_tooltip": null,
            "layout": "IPY_MODEL_7bcc0141281b4497829ee2ae9062bba9",
            "placeholder": "​",
            "style": "IPY_MODEL_e79d6e4ee76e4d6b8d6918e0010024c5",
            "value": "Dl Completed...: 100%"
          }
        },
        "0c04f81f58bd43a5b558f0d6f7f620f8": {
          "model_module": "@jupyter-widgets/controls",
          "model_name": "FloatProgressModel",
          "model_module_version": "1.5.0",
          "state": {
            "_dom_classes": [],
            "_model_module": "@jupyter-widgets/controls",
            "_model_module_version": "1.5.0",
            "_model_name": "FloatProgressModel",
            "_view_count": null,
            "_view_module": "@jupyter-widgets/controls",
            "_view_module_version": "1.5.0",
            "_view_name": "ProgressView",
            "bar_style": "success",
            "description": "",
            "description_tooltip": null,
            "layout": "IPY_MODEL_f48cd07a19154636ab40bc43935a9e7d",
            "max": 5,
            "min": 0,
            "orientation": "horizontal",
            "style": "IPY_MODEL_d761c3e1a74f4d1999996bef481ce745",
            "value": 5
          }
        },
        "9589198a80a04626aa5a7dcfbd6574b8": {
          "model_module": "@jupyter-widgets/controls",
          "model_name": "HTMLModel",
          "model_module_version": "1.5.0",
          "state": {
            "_dom_classes": [],
            "_model_module": "@jupyter-widgets/controls",
            "_model_module_version": "1.5.0",
            "_model_name": "HTMLModel",
            "_view_count": null,
            "_view_module": "@jupyter-widgets/controls",
            "_view_module_version": "1.5.0",
            "_view_name": "HTMLView",
            "description": "",
            "description_tooltip": null,
            "layout": "IPY_MODEL_afdd1d394ff549c385888670705e37e8",
            "placeholder": "​",
            "style": "IPY_MODEL_74b2e32a19ab43d1af2f50fd937e17c3",
            "value": " 5/5 [00:00&lt;00:00, 13.27 file/s]"
          }
        },
        "546aad93c7034cf0a7c6e350c92541d2": {
          "model_module": "@jupyter-widgets/base",
          "model_name": "LayoutModel",
          "model_module_version": "1.2.0",
          "state": {
            "_model_module": "@jupyter-widgets/base",
            "_model_module_version": "1.2.0",
            "_model_name": "LayoutModel",
            "_view_count": null,
            "_view_module": "@jupyter-widgets/base",
            "_view_module_version": "1.2.0",
            "_view_name": "LayoutView",
            "align_content": null,
            "align_items": null,
            "align_self": null,
            "border": null,
            "bottom": null,
            "display": null,
            "flex": null,
            "flex_flow": null,
            "grid_area": null,
            "grid_auto_columns": null,
            "grid_auto_flow": null,
            "grid_auto_rows": null,
            "grid_column": null,
            "grid_gap": null,
            "grid_row": null,
            "grid_template_areas": null,
            "grid_template_columns": null,
            "grid_template_rows": null,
            "height": null,
            "justify_content": null,
            "justify_items": null,
            "left": null,
            "margin": null,
            "max_height": null,
            "max_width": null,
            "min_height": null,
            "min_width": null,
            "object_fit": null,
            "object_position": null,
            "order": null,
            "overflow": null,
            "overflow_x": null,
            "overflow_y": null,
            "padding": null,
            "right": null,
            "top": null,
            "visibility": null,
            "width": null
          }
        },
        "7bcc0141281b4497829ee2ae9062bba9": {
          "model_module": "@jupyter-widgets/base",
          "model_name": "LayoutModel",
          "model_module_version": "1.2.0",
          "state": {
            "_model_module": "@jupyter-widgets/base",
            "_model_module_version": "1.2.0",
            "_model_name": "LayoutModel",
            "_view_count": null,
            "_view_module": "@jupyter-widgets/base",
            "_view_module_version": "1.2.0",
            "_view_name": "LayoutView",
            "align_content": null,
            "align_items": null,
            "align_self": null,
            "border": null,
            "bottom": null,
            "display": null,
            "flex": null,
            "flex_flow": null,
            "grid_area": null,
            "grid_auto_columns": null,
            "grid_auto_flow": null,
            "grid_auto_rows": null,
            "grid_column": null,
            "grid_gap": null,
            "grid_row": null,
            "grid_template_areas": null,
            "grid_template_columns": null,
            "grid_template_rows": null,
            "height": null,
            "justify_content": null,
            "justify_items": null,
            "left": null,
            "margin": null,
            "max_height": null,
            "max_width": null,
            "min_height": null,
            "min_width": null,
            "object_fit": null,
            "object_position": null,
            "order": null,
            "overflow": null,
            "overflow_x": null,
            "overflow_y": null,
            "padding": null,
            "right": null,
            "top": null,
            "visibility": null,
            "width": null
          }
        },
        "e79d6e4ee76e4d6b8d6918e0010024c5": {
          "model_module": "@jupyter-widgets/controls",
          "model_name": "DescriptionStyleModel",
          "model_module_version": "1.5.0",
          "state": {
            "_model_module": "@jupyter-widgets/controls",
            "_model_module_version": "1.5.0",
            "_model_name": "DescriptionStyleModel",
            "_view_count": null,
            "_view_module": "@jupyter-widgets/base",
            "_view_module_version": "1.2.0",
            "_view_name": "StyleView",
            "description_width": ""
          }
        },
        "f48cd07a19154636ab40bc43935a9e7d": {
          "model_module": "@jupyter-widgets/base",
          "model_name": "LayoutModel",
          "model_module_version": "1.2.0",
          "state": {
            "_model_module": "@jupyter-widgets/base",
            "_model_module_version": "1.2.0",
            "_model_name": "LayoutModel",
            "_view_count": null,
            "_view_module": "@jupyter-widgets/base",
            "_view_module_version": "1.2.0",
            "_view_name": "LayoutView",
            "align_content": null,
            "align_items": null,
            "align_self": null,
            "border": null,
            "bottom": null,
            "display": null,
            "flex": null,
            "flex_flow": null,
            "grid_area": null,
            "grid_auto_columns": null,
            "grid_auto_flow": null,
            "grid_auto_rows": null,
            "grid_column": null,
            "grid_gap": null,
            "grid_row": null,
            "grid_template_areas": null,
            "grid_template_columns": null,
            "grid_template_rows": null,
            "height": null,
            "justify_content": null,
            "justify_items": null,
            "left": null,
            "margin": null,
            "max_height": null,
            "max_width": null,
            "min_height": null,
            "min_width": null,
            "object_fit": null,
            "object_position": null,
            "order": null,
            "overflow": null,
            "overflow_x": null,
            "overflow_y": null,
            "padding": null,
            "right": null,
            "top": null,
            "visibility": null,
            "width": null
          }
        },
        "d761c3e1a74f4d1999996bef481ce745": {
          "model_module": "@jupyter-widgets/controls",
          "model_name": "ProgressStyleModel",
          "model_module_version": "1.5.0",
          "state": {
            "_model_module": "@jupyter-widgets/controls",
            "_model_module_version": "1.5.0",
            "_model_name": "ProgressStyleModel",
            "_view_count": null,
            "_view_module": "@jupyter-widgets/base",
            "_view_module_version": "1.2.0",
            "_view_name": "StyleView",
            "bar_color": null,
            "description_width": ""
          }
        },
        "afdd1d394ff549c385888670705e37e8": {
          "model_module": "@jupyter-widgets/base",
          "model_name": "LayoutModel",
          "model_module_version": "1.2.0",
          "state": {
            "_model_module": "@jupyter-widgets/base",
            "_model_module_version": "1.2.0",
            "_model_name": "LayoutModel",
            "_view_count": null,
            "_view_module": "@jupyter-widgets/base",
            "_view_module_version": "1.2.0",
            "_view_name": "LayoutView",
            "align_content": null,
            "align_items": null,
            "align_self": null,
            "border": null,
            "bottom": null,
            "display": null,
            "flex": null,
            "flex_flow": null,
            "grid_area": null,
            "grid_auto_columns": null,
            "grid_auto_flow": null,
            "grid_auto_rows": null,
            "grid_column": null,
            "grid_gap": null,
            "grid_row": null,
            "grid_template_areas": null,
            "grid_template_columns": null,
            "grid_template_rows": null,
            "height": null,
            "justify_content": null,
            "justify_items": null,
            "left": null,
            "margin": null,
            "max_height": null,
            "max_width": null,
            "min_height": null,
            "min_width": null,
            "object_fit": null,
            "object_position": null,
            "order": null,
            "overflow": null,
            "overflow_x": null,
            "overflow_y": null,
            "padding": null,
            "right": null,
            "top": null,
            "visibility": null,
            "width": null
          }
        },
        "74b2e32a19ab43d1af2f50fd937e17c3": {
          "model_module": "@jupyter-widgets/controls",
          "model_name": "DescriptionStyleModel",
          "model_module_version": "1.5.0",
          "state": {
            "_model_module": "@jupyter-widgets/controls",
            "_model_module_version": "1.5.0",
            "_model_name": "DescriptionStyleModel",
            "_view_count": null,
            "_view_module": "@jupyter-widgets/base",
            "_view_module_version": "1.2.0",
            "_view_name": "StyleView",
            "description_width": ""
          }
        }
      }
    }
  },
  "cells": [
    {
      "cell_type": "markdown",
      "source": [
        "## Diffusion Model"
      ],
      "metadata": {
        "id": "lETRIEWn9LOL"
      }
    },
    {
      "cell_type": "markdown",
      "source": [
        "Referencing [Image generation with diffusion models using Keras and TensorFlow](https://towardsdatascience.com/image-generation-with-diffusion-models-using-keras-and-tensorflow-9f60aae72ac) by\n",
        "Vedant Jumle"
      ],
      "metadata": {
        "id": "rLx_cBeK-DMX"
      }
    },
    {
      "cell_type": "code",
      "source": [
        "!pip install tensorflow_addons\n",
        "!pip install einops"
      ],
      "metadata": {
        "id": "3NAtv8dqsH1p",
        "colab": {
          "base_uri": "https://localhost:8080/"
        },
        "outputId": "71b21717-7228-48e2-f2a4-2bdc82e74690"
      },
      "execution_count": 1,
      "outputs": [
        {
          "output_type": "stream",
          "name": "stdout",
          "text": [
            "Collecting tensorflow_addons\n",
            "  Downloading tensorflow_addons-0.23.0-cp310-cp310-manylinux_2_17_x86_64.manylinux2014_x86_64.whl (611 kB)\n",
            "\u001b[2K     \u001b[90m━━━━━━━━━━━━━━━━━━━━━━━━━━━━━━━━━━━━━━━━\u001b[0m \u001b[32m611.8/611.8 kB\u001b[0m \u001b[31m4.8 MB/s\u001b[0m eta \u001b[36m0:00:00\u001b[0m\n",
            "\u001b[?25hRequirement already satisfied: packaging in /usr/local/lib/python3.10/dist-packages (from tensorflow_addons) (24.0)\n",
            "Collecting typeguard<3.0.0,>=2.7 (from tensorflow_addons)\n",
            "  Downloading typeguard-2.13.3-py3-none-any.whl (17 kB)\n",
            "Installing collected packages: typeguard, tensorflow_addons\n",
            "Successfully installed tensorflow_addons-0.23.0 typeguard-2.13.3\n",
            "Collecting einops\n",
            "  Downloading einops-0.8.0-py3-none-any.whl (43 kB)\n",
            "\u001b[2K     \u001b[90m━━━━━━━━━━━━━━━━━━━━━━━━━━━━━━━━━━━━━━━━\u001b[0m \u001b[32m43.2/43.2 kB\u001b[0m \u001b[31m697.2 kB/s\u001b[0m eta \u001b[36m0:00:00\u001b[0m\n",
            "\u001b[?25hInstalling collected packages: einops\n",
            "Successfully installed einops-0.8.0\n"
          ]
        }
      ]
    },
    {
      "cell_type": "markdown",
      "source": [
        "Loading The Dataset"
      ],
      "metadata": {
        "id": "ixBZWC4J9OxO"
      }
    },
    {
      "cell_type": "code",
      "source": [
        "import os\n",
        "import numpy as np\n",
        "import matplotlib.pyplot as plt\n",
        "from tqdm import tqdm\n",
        "import math\n",
        "from PIL import Image\n",
        "\n",
        "import tensorflow as tf\n",
        "from tensorflow import keras, einsum\n",
        "from tensorflow.keras import Model, Sequential\n",
        "from tensorflow.keras.layers import Layer\n",
        "import tensorflow.keras.layers as nn\n",
        "import tensorflow_addons as tfa\n",
        "import tensorflow_datasets as tfds\n",
        "\n",
        "from einops import rearrange\n",
        "from einops.layers.tensorflow import Rearrange\n",
        "from functools import partial\n",
        "from inspect import isfunction\n",
        "\n",
        "tf.get_logger().setLevel(\"ERROR\")\n",
        "\n",
        "gpu_options = tf.compat.v1.GPUOptions(per_process_gpu_memory_fraction=0.8)\n",
        "config = tf.compat.v1.ConfigProto(gpu_options=gpu_options)\n",
        "session = tf.compat.v1.Session(config=config)\n",
        "\n",
        "target_size = (32, 32)\n",
        "channels = 1\n",
        "BATCH_SIZE=64\n",
        "\n",
        "def preprocess(x, y):\n",
        "    return tf.image.resize(tf.cast(x, tf.float32) / 127.5 - 1, (32, 32))\n",
        "\n",
        "def get_datasets():\n",
        "    train_ds = tfds.load('mnist', as_supervised=True, split=\"train\")\n",
        "\n",
        "    train_ds = train_ds.map(preprocess, tf.data.AUTOTUNE)\n",
        "    train_ds = train_ds.shuffle(5000).batch(BATCH_SIZE).prefetch(tf.data.AUTOTUNE)\n",
        "\n",
        "    return tfds.as_numpy(train_ds)\n",
        "\n",
        "\n",
        "dataset = get_datasets()\n",
        "\n",
        "timesteps = 200\n",
        "\n",
        "beta = np.linspace(0.0001, 0.02, timesteps)\n",
        "\n",
        "alpha = 1 - beta\n",
        "alpha_bar = np.cumprod(alpha, 0)\n",
        "alpha_bar = np.concatenate((np.array([1.]), alpha_bar[:-1]), axis=0)\n",
        "sqrt_alpha_bar = np.sqrt(alpha_bar)\n",
        "one_minus_sqrt_alpha_bar = np.sqrt(1-alpha_bar)\n",
        "def set_key(key):\n",
        "    np.random.seed(key)\n",
        "\n",
        "def forward_noise(key, x_0, t):\n",
        "    set_key(key)\n",
        "    noise = np.random.normal(size=x_0.shape)\n",
        "    reshaped_sqrt_alpha_bar_t = np.reshape(np.take(sqrt_alpha_bar, t), (-1, 1, 1, 1))\n",
        "    reshaped_one_minus_sqrt_alpha_bar_t = np.reshape(np.take(one_minus_sqrt_alpha_bar, t), (-1, 1, 1, 1))\n",
        "    noisy_image = reshaped_sqrt_alpha_bar_t  * x_0 + reshaped_one_minus_sqrt_alpha_bar_t  * noise\n",
        "    return noisy_image, noise\n",
        "\n",
        "def generate_timestamp(key, num):\n",
        "    set_key(key)\n",
        "    return tf.random.uniform(shape=[num], minval=0, maxval=timesteps, dtype=tf.int32)\n",
        "\n",
        "\n"
      ],
      "metadata": {
        "id": "DdV8qWJJryOl",
        "colab": {
          "base_uri": "https://localhost:8080/",
          "height": 240,
          "referenced_widgets": [
            "c2f9c38c9d19432da053a46e7d04a32d",
            "8ff3c3dfb15d4bd5af0f2d8b504622f7",
            "0c04f81f58bd43a5b558f0d6f7f620f8",
            "9589198a80a04626aa5a7dcfbd6574b8",
            "546aad93c7034cf0a7c6e350c92541d2",
            "7bcc0141281b4497829ee2ae9062bba9",
            "e79d6e4ee76e4d6b8d6918e0010024c5",
            "f48cd07a19154636ab40bc43935a9e7d",
            "d761c3e1a74f4d1999996bef481ce745",
            "afdd1d394ff549c385888670705e37e8",
            "74b2e32a19ab43d1af2f50fd937e17c3"
          ]
        },
        "outputId": "dcd8edf2-0d64-4796-a4e3-9e6ad750046f"
      },
      "execution_count": 2,
      "outputs": [
        {
          "output_type": "stream",
          "name": "stderr",
          "text": [
            "/usr/local/lib/python3.10/dist-packages/tensorflow_addons/utils/tfa_eol_msg.py:23: UserWarning: \n",
            "\n",
            "TensorFlow Addons (TFA) has ended development and introduction of new features.\n",
            "TFA has entered a minimal maintenance and release mode until a planned end of life in May 2024.\n",
            "Please modify downstream libraries to take dependencies from other repositories in our TensorFlow community (e.g. Keras, Keras-CV, and Keras-NLP). \n",
            "\n",
            "For more information see: https://github.com/tensorflow/addons/issues/2807 \n",
            "\n",
            "  warnings.warn(\n"
          ]
        },
        {
          "output_type": "stream",
          "name": "stdout",
          "text": [
            "Downloading and preparing dataset 11.06 MiB (download: 11.06 MiB, generated: 21.00 MiB, total: 32.06 MiB) to /root/tensorflow_datasets/mnist/3.0.1...\n"
          ]
        },
        {
          "output_type": "display_data",
          "data": {
            "text/plain": [
              "Dl Completed...:   0%|          | 0/5 [00:00<?, ? file/s]"
            ],
            "application/vnd.jupyter.widget-view+json": {
              "version_major": 2,
              "version_minor": 0,
              "model_id": "c2f9c38c9d19432da053a46e7d04a32d"
            }
          },
          "metadata": {}
        },
        {
          "output_type": "stream",
          "name": "stdout",
          "text": [
            "Dataset mnist downloaded and prepared to /root/tensorflow_datasets/mnist/3.0.1. Subsequent calls will reuse this data.\n"
          ]
        }
      ]
    },
    {
      "cell_type": "markdown",
      "source": [
        "Building the Network and its Helper Functions"
      ],
      "metadata": {
        "id": "CFCnIp7F9bUz"
      }
    },
    {
      "cell_type": "code",
      "source": [
        "def exists(x):\n",
        "    return x is not None\n",
        "\n",
        "def default(val, d):\n",
        "    if exists(val):\n",
        "        return val\n",
        "    return d() if isfunction(d) else d\n",
        "\n",
        "class SinusoidalPosEmb(Layer):\n",
        "    def __init__(self, dim, max_positions=10000):\n",
        "        super(SinusoidalPosEmb, self).__init__()\n",
        "        self.dim = dim\n",
        "        self.max_positions = max_positions\n",
        "\n",
        "    def call(self, x, training=True):\n",
        "        x = tf.cast(x, tf.float32)\n",
        "        half_dim = self.dim // 2\n",
        "        emb = math.log(self.max_positions) / (half_dim - 1)\n",
        "        emb = tf.exp(tf.range(half_dim, dtype=tf.float32) * -emb)\n",
        "        emb = x[:, None] * emb[None, :]\n",
        "\n",
        "        emb = tf.concat([tf.sin(emb), tf.cos(emb)], axis=-1)\n",
        "\n",
        "        return emb\n",
        "\n",
        "class Identity(Layer):\n",
        "    def __init__(self):\n",
        "        super(Identity, self).__init__()\n",
        "\n",
        "    def call(self, x, training=True):\n",
        "        return tf.identity(x)\n",
        "\n",
        "\n",
        "class Residual(Layer):\n",
        "    def __init__(self, fn):\n",
        "        super(Residual, self).__init__()\n",
        "        self.fn = fn\n",
        "\n",
        "    def call(self, x, training=True):\n",
        "        return self.fn(x, training=training) + x\n",
        "\n",
        "def Upsample(dim):\n",
        "    return nn.Conv2DTranspose(filters=dim, kernel_size=4, strides=2, padding='SAME')\n",
        "\n",
        "def Downsample(dim):\n",
        "    return nn.Conv2D(filters=dim, kernel_size=4, strides=2, padding='SAME')\n",
        "\n",
        "class LayerNorm(Layer):\n",
        "    def __init__(self, dim, eps=1e-5, **kwargs):\n",
        "        super(LayerNorm, self).__init__(**kwargs)\n",
        "        self.eps = eps\n",
        "\n",
        "        self.g = tf.Variable(tf.ones([1, 1, 1, dim]))\n",
        "        self.b = tf.Variable(tf.zeros([1, 1, 1, dim]))\n",
        "\n",
        "    def call(self, x, training=True):\n",
        "        var = tf.math.reduce_variance(x, axis=-1, keepdims=True)\n",
        "        mean = tf.reduce_mean(x, axis=-1, keepdims=True)\n",
        "\n",
        "        x = (x - mean) / tf.sqrt((var + self.eps)) * self.g + self.b\n",
        "        return x\n",
        "\n",
        "class PreNorm(Layer):\n",
        "    def __init__(self, dim, fn):\n",
        "        super(PreNorm, self).__init__()\n",
        "        self.fn = fn\n",
        "        self.norm = LayerNorm(dim)\n",
        "\n",
        "    def call(self, x, training=True):\n",
        "        x = self.norm(x)\n",
        "        return self.fn(x)\n",
        "\n",
        "class SiLU(Layer):\n",
        "    def __init__(self):\n",
        "        super(SiLU, self).__init__()\n",
        "\n",
        "    def call(self, x, training=True):\n",
        "        return x * tf.nn.sigmoid(x)\n",
        "\n",
        "def gelu(x, approximate=False):\n",
        "    if approximate:\n",
        "        coeff = tf.cast(0.044715, x.dtype)\n",
        "        return 0.5 * x * (1.0 + tf.tanh(0.7978845608028654 * (x + coeff * tf.pow(x, 3))))\n",
        "    else:\n",
        "        return 0.5 * x * (1.0 + tf.math.erf(x / tf.cast(1.4142135623730951, x.dtype)))\n",
        "\n",
        "class GELU(Layer):\n",
        "    def __init__(self, approximate=False):\n",
        "        super(GELU, self).__init__()\n",
        "        self.approximate = approximate\n",
        "\n",
        "    def call(self, x, training=True):\n",
        "        return gelu(x, self.approximate)"
      ],
      "metadata": {
        "id": "wE59YnGhr8Kj"
      },
      "execution_count": 3,
      "outputs": []
    },
    {
      "cell_type": "code",
      "source": [
        "class Block(Layer):\n",
        "    def __init__(self, dim, groups=8):\n",
        "        super(Block, self).__init__()\n",
        "        self.proj = nn.Conv2D(dim, kernel_size=3, strides=1, padding='SAME')\n",
        "        self.norm = tfa.layers.GroupNormalization(groups, epsilon=1e-05)\n",
        "        self.act = SiLU()\n",
        "\n",
        "\n",
        "    def call(self, x, gamma_beta=None, training=True):\n",
        "        x = self.proj(x)\n",
        "        x = self.norm(x, training=training)\n",
        "\n",
        "        if exists(gamma_beta):\n",
        "            gamma, beta = gamma_beta\n",
        "            x = x * (gamma + 1) + beta\n",
        "\n",
        "        x = self.act(x)\n",
        "        return x\n",
        "\n",
        "class ResnetBlock(Layer):\n",
        "    def __init__(self, dim, dim_out, time_emb_dim=None, groups=8):\n",
        "        super(ResnetBlock, self).__init__()\n",
        "\n",
        "        self.mlp = Sequential([\n",
        "            SiLU(),\n",
        "            nn.Dense(units=dim_out * 2)\n",
        "        ]) if exists(time_emb_dim) else None\n",
        "\n",
        "        self.block1 = Block(dim_out, groups=groups)\n",
        "        self.block2 = Block(dim_out, groups=groups)\n",
        "        self.res_conv = nn.Conv2D(filters=dim_out, kernel_size=1, strides=1) if dim != dim_out else Identity()\n",
        "\n",
        "    def call(self, x, time_emb=None, training=True):\n",
        "        gamma_beta = None\n",
        "        if exists(self.mlp) and exists(time_emb):\n",
        "            time_emb = self.mlp(time_emb)\n",
        "            time_emb = rearrange(time_emb, 'b c -> b 1 1 c')\n",
        "            gamma_beta = tf.split(time_emb, num_or_size_splits=2, axis=-1)\n",
        "\n",
        "        h = self.block1(x, gamma_beta=gamma_beta, training=training)\n",
        "        h = self.block2(h, training=training)\n",
        "\n",
        "        return h + self.res_conv(x)\n",
        "\n",
        "class LinearAttention(Layer):\n",
        "    def __init__(self, dim, heads=4, dim_head=32):\n",
        "        super(LinearAttention, self).__init__()\n",
        "        self.scale = dim_head ** -0.5\n",
        "        self.heads = heads\n",
        "        self.hidden_dim = dim_head * heads\n",
        "\n",
        "        self.attend = nn.Softmax()\n",
        "        self.to_qkv = nn.Conv2D(filters=self.hidden_dim * 3, kernel_size=1, strides=1, use_bias=False)\n",
        "\n",
        "        self.to_out = Sequential([\n",
        "            nn.Conv2D(filters=dim, kernel_size=1, strides=1),\n",
        "            LayerNorm(dim)\n",
        "        ])\n",
        "\n",
        "    def call(self, x, training=True):\n",
        "        b, h, w, c = x.shape\n",
        "        qkv = self.to_qkv(x)\n",
        "        qkv = tf.split(qkv, num_or_size_splits=3, axis=-1)\n",
        "        q, k, v = map(lambda t: rearrange(t, 'b x y (h c) -> b h c (x y)', h=self.heads), qkv)\n",
        "\n",
        "        q = tf.nn.softmax(q, axis=-2)\n",
        "        k = tf.nn.softmax(k, axis=-1)\n",
        "\n",
        "        q = q * self.scale\n",
        "        context = einsum('b h d n, b h e n -> b h d e', k, v)\n",
        "\n",
        "        out = einsum('b h d e, b h d n -> b h e n', context, q)\n",
        "        out = rearrange(out, 'b h c (x y) -> b x y (h c)', h=self.heads, x=h, y=w)\n",
        "        out = self.to_out(out, training=training)\n",
        "\n",
        "        return out\n",
        "\n",
        "class Attention(Layer):\n",
        "    def __init__(self, dim, heads=4, dim_head=32):\n",
        "        super(Attention, self).__init__()\n",
        "        self.scale = dim_head ** -0.5\n",
        "        self.heads = heads\n",
        "        self.hidden_dim = dim_head * heads\n",
        "\n",
        "        self.to_qkv = nn.Conv2D(filters=self.hidden_dim * 3, kernel_size=1, strides=1, use_bias=False)\n",
        "        self.to_out = nn.Conv2D(filters=dim, kernel_size=1, strides=1)\n",
        "\n",
        "    def call(self, x, training=True):\n",
        "        b, h, w, c = x.shape\n",
        "        qkv = self.to_qkv(x)\n",
        "        qkv = tf.split(qkv, num_or_size_splits=3, axis=-1)\n",
        "        q, k, v = map(lambda t: rearrange(t, 'b x y (h c) -> b h c (x y)', h=self.heads), qkv)\n",
        "        q = q * self.scale\n",
        "\n",
        "        sim = einsum('b h d i, b h d j -> b h i j', q, k)\n",
        "        sim_max = tf.stop_gradient(tf.expand_dims(tf.argmax(sim, axis=-1), axis=-1))\n",
        "        sim_max = tf.cast(sim_max, tf.float32)\n",
        "        sim = sim - sim_max\n",
        "        attn = tf.nn.softmax(sim, axis=-1)\n",
        "\n",
        "        out = einsum('b h i j, b h d j -> b h i d', attn, v)\n",
        "        out = rearrange(out, 'b h (x y) d -> b x y (h d)', x = h, y = w)\n",
        "        out = self.to_out(out, training=training)\n",
        "\n",
        "        return out"
      ],
      "metadata": {
        "id": "J2Xj-XDzsInH"
      },
      "execution_count": 4,
      "outputs": []
    },
    {
      "cell_type": "code",
      "source": [
        "class Unet(Model):\n",
        "    def __init__(self,\n",
        "                 dim=64,\n",
        "                 init_dim=None,\n",
        "                 out_dim=None,\n",
        "                 dim_mults=(1, 2, 4, 8),\n",
        "                 channels=3,\n",
        "                 resnet_block_groups=8,\n",
        "                 learned_variance=False,\n",
        "                 sinusoidal_cond_mlp=True\n",
        "                 ):\n",
        "        super(Unet, self).__init__()\n",
        "\n",
        "        self.channels = channels\n",
        "\n",
        "        init_dim = default(init_dim, dim // 3 * 2)\n",
        "        self.init_conv = nn.Conv2D(filters=init_dim, kernel_size=7, strides=1, padding='SAME')\n",
        "\n",
        "        dims = [init_dim, *map(lambda m: dim * m, dim_mults)]\n",
        "        in_out = list(zip(dims[:-1], dims[1:]))\n",
        "\n",
        "        block_klass = partial(ResnetBlock, groups = resnet_block_groups)\n",
        "\n",
        "        time_dim = dim * 4\n",
        "        self.sinusoidal_cond_mlp = sinusoidal_cond_mlp\n",
        "\n",
        "        self.time_mlp = Sequential([\n",
        "            SinusoidalPosEmb(dim),\n",
        "            nn.Dense(units=time_dim),\n",
        "            GELU(),\n",
        "            nn.Dense(units=time_dim)\n",
        "        ], name=\"time embeddings\")\n",
        "\n",
        "        self.downs = []\n",
        "        self.ups = []\n",
        "        num_resolutions = len(in_out)\n",
        "\n",
        "        for ind, (dim_in, dim_out) in enumerate(in_out):\n",
        "            is_last = ind >= (num_resolutions - 1)\n",
        "\n",
        "            self.downs.append([\n",
        "                block_klass(dim_in, dim_out, time_emb_dim=time_dim),\n",
        "                block_klass(dim_out, dim_out, time_emb_dim=time_dim),\n",
        "                Residual(PreNorm(dim_out, LinearAttention(dim_out))),\n",
        "                Downsample(dim_out) if not is_last else Identity()\n",
        "            ])\n",
        "\n",
        "        mid_dim = dims[-1]\n",
        "        self.mid_block1 = block_klass(mid_dim, mid_dim, time_emb_dim=time_dim)\n",
        "        self.mid_attn = Residual(PreNorm(mid_dim, Attention(mid_dim)))\n",
        "        self.mid_block2 = block_klass(mid_dim, mid_dim, time_emb_dim=time_dim)\n",
        "\n",
        "        for ind, (dim_in, dim_out) in enumerate(reversed(in_out[1:])):\n",
        "            is_last = ind >= (num_resolutions - 1)\n",
        "\n",
        "            self.ups.append([\n",
        "                block_klass(dim_out * 2, dim_in, time_emb_dim=time_dim),\n",
        "                block_klass(dim_in, dim_in, time_emb_dim=time_dim),\n",
        "                Residual(PreNorm(dim_in, LinearAttention(dim_in))),\n",
        "                Upsample(dim_in) if not is_last else Identity()\n",
        "            ])\n",
        "\n",
        "        default_out_dim = channels * (1 if not learned_variance else 2)\n",
        "        self.out_dim = default(out_dim, default_out_dim)\n",
        "\n",
        "        self.final_conv = Sequential([\n",
        "            block_klass(dim * 2, dim),\n",
        "            nn.Conv2D(filters=self.out_dim, kernel_size=1, strides=1)\n",
        "        ], name=\"output\")\n",
        "\n",
        "    def call(self, x, time=None, training=True, **kwargs):\n",
        "        x = self.init_conv(x)\n",
        "        t = self.time_mlp(time)\n",
        "\n",
        "        h = []\n",
        "\n",
        "        for block1, block2, attn, downsample in self.downs:\n",
        "            x = block1(x, t)\n",
        "            x = block2(x, t)\n",
        "            x = attn(x)\n",
        "            h.append(x)\n",
        "            x = downsample(x)\n",
        "\n",
        "        x = self.mid_block1(x, t)\n",
        "        x = self.mid_attn(x)\n",
        "        x = self.mid_block2(x, t)\n",
        "\n",
        "        for block1, block2, attn, upsample in self.ups:\n",
        "            x = tf.concat([x, h.pop()], axis=-1)\n",
        "            x = block1(x, t)\n",
        "            x = block2(x, t)\n",
        "            x = attn(x)\n",
        "            x = upsample(x)\n",
        "\n",
        "        x = tf.concat([x, h.pop()], axis=-1)\n",
        "        x = self.final_conv(x)\n",
        "        return x"
      ],
      "metadata": {
        "id": "1lQe9gv7sNXZ"
      },
      "execution_count": 5,
      "outputs": []
    },
    {
      "cell_type": "code",
      "source": [
        "unet = Unet(channels=1)\n",
        "\n",
        "ckpt = tf.train.Checkpoint(unet=unet)\n",
        "ckpt_manager = tf.train.CheckpointManager(ckpt, \"./checkpoints\", max_to_keep=2)\n",
        "\n",
        "if ckpt_manager.latest_checkpoint:\n",
        "    ckpt.restore(ckpt_manager.latest_checkpoint)\n",
        "    start_interation = int(ckpt_manager.latest_checkpoint.split(\"-\")[-1])\n",
        "    print(\"Restored from {}\".format(ckpt_manager.latest_checkpoint))\n",
        "else:\n",
        "    print(\"Initializing from scratch.\")\n",
        "\n",
        "test_images = np.ones([1, 32, 32, 1])\n",
        "test_timestamps = generate_timestamp(0, 1)\n",
        "k = unet(test_images, test_timestamps)\n",
        "\n",
        "opt = keras.optimizers.Adam(learning_rate=1e-4)"
      ],
      "metadata": {
        "id": "2ZGIblVtsSgg",
        "colab": {
          "base_uri": "https://localhost:8080/"
        },
        "outputId": "6bc8fa3a-64b2-42b2-dd32-b62867f630b2"
      },
      "execution_count": 6,
      "outputs": [
        {
          "output_type": "stream",
          "name": "stdout",
          "text": [
            "Initializing from scratch.\n"
          ]
        }
      ]
    },
    {
      "cell_type": "code",
      "source": [
        "def loss_fn(real, generated):\n",
        "    loss = tf.math.reduce_mean((real - generated) ** 2)\n",
        "    return loss"
      ],
      "metadata": {
        "id": "mhumogc9sVfQ"
      },
      "execution_count": 7,
      "outputs": []
    },
    {
      "cell_type": "code",
      "source": [
        "rng = 0\n",
        "\n",
        "def train_step(batch):\n",
        "    rng, tsrng = np.random.randint(0, 100000, size=(2,))\n",
        "    timestep_values = generate_timestamp(tsrng, batch.shape[0])\n",
        "\n",
        "    noised_image, noise = forward_noise(rng, batch, timestep_values)\n",
        "    with tf.GradientTape() as tape:\n",
        "        prediction = unet(noised_image, timestep_values)\n",
        "\n",
        "        loss_value = loss_fn(noise, prediction)\n",
        "\n",
        "    gradients = tape.gradient(loss_value, unet.trainable_variables)\n",
        "    opt.apply_gradients(zip(gradients, unet.trainable_variables))\n",
        "\n",
        "    return loss_value"
      ],
      "metadata": {
        "id": "gs-rrLDdsYV1"
      },
      "execution_count": 8,
      "outputs": []
    },
    {
      "cell_type": "markdown",
      "source": [
        "Training The Model"
      ],
      "metadata": {
        "id": "-s9Bnsq_9hgh"
      }
    },
    {
      "cell_type": "code",
      "source": [
        "epochs = 10\n",
        "for e in range(1, epochs+1):\n",
        "    bar = tf.keras.utils.Progbar(len(dataset)-1)\n",
        "    losses = []\n",
        "    for i, batch in enumerate(iter(dataset)):\n",
        "        loss = train_step(batch)\n",
        "        losses.append(loss)\n",
        "        bar.update(i, values=[(\"loss\", loss)])\n",
        "\n",
        "    avg = np.mean(losses)\n",
        "    print(f\"Average loss for epoch {e}/{epochs}: {avg}\")\n",
        "    ckpt_manager.save(checkpoint_number=e)"
      ],
      "metadata": {
        "id": "-_9n3n6esajc",
        "colab": {
          "base_uri": "https://localhost:8080/"
        },
        "outputId": "cf62ec0e-395e-426c-e0ee-f462f5643616"
      },
      "execution_count": 10,
      "outputs": [
        {
          "output_type": "stream",
          "name": "stdout",
          "text": [
            "937/937 [==============================] - 885s 940ms/step - loss: 0.1449\n",
            "Average loss for epoch 1/10: 0.14486390352249146\n",
            "937/937 [==============================] - 872s 930ms/step - loss: 0.0800\n",
            "Average loss for epoch 2/10: 0.08001678436994553\n",
            "937/937 [==============================] - 886s 944ms/step - loss: 0.0672\n",
            "Average loss for epoch 3/10: 0.0672089084982872\n",
            "937/937 [==============================] - 875s 933ms/step - loss: 0.0605\n",
            "Average loss for epoch 4/10: 0.06045897305011749\n",
            "937/937 [==============================] - 925s 986ms/step - loss: 0.0553\n",
            "Average loss for epoch 5/10: 0.055296748876571655\n",
            "937/937 [==============================] - 913s 973ms/step - loss: 0.0517\n",
            "Average loss for epoch 6/10: 0.0516558401286602\n",
            "937/937 [==============================] - 918s 978ms/step - loss: 0.0494\n",
            "Average loss for epoch 7/10: 0.04937981814146042\n",
            "937/937 [==============================] - 915s 975ms/step - loss: 0.0471\n",
            "Average loss for epoch 8/10: 0.0471055768430233\n",
            "937/937 [==============================] - 911s 971ms/step - loss: 0.0455\n",
            "Average loss for epoch 9/10: 0.0454699769616127\n",
            "937/937 [==============================] - 895s 954ms/step - loss: 0.0442\n",
            "Average loss for epoch 10/10: 0.04418191313743591\n"
          ]
        }
      ]
    },
    {
      "cell_type": "code",
      "source": [
        "def ddpm(x_t, pred_noise, t):\n",
        "    alpha_t = np.take(alpha, t)\n",
        "    alpha_t_bar = np.take(alpha_bar, t)\n",
        "\n",
        "    eps_coef = (1 - alpha_t) / (1 - alpha_t_bar) ** .5\n",
        "    mean = (1 / (alpha_t ** .5)) * (x_t - eps_coef * pred_noise)\n",
        "\n",
        "    var = np.take(beta, t)\n",
        "    z = np.random.normal(size=x_t.shape)\n",
        "\n",
        "    return mean + (var ** .5) * z"
      ],
      "metadata": {
        "id": "cJRAvA67seub"
      },
      "execution_count": 11,
      "outputs": []
    },
    {
      "cell_type": "code",
      "source": [
        "def ddim(x_t, pred_noise, t, sigma_t):\n",
        "    alpha_t_bar = np.take(alpha_bar, t)\n",
        "    alpha_t_minus_one = np.take(alpha, t-1)\n",
        "\n",
        "    pred = (x_t - ((1 - alpha_t_bar) ** 0.5) * pred_noise)/ (alpha_t_bar ** 0.5)\n",
        "    pred = (alpha_t_minus_one ** 0.5) * pred\n",
        "\n",
        "    pred = pred + ((1 - alpha_t_minus_one - (sigma_t ** 2)) ** 0.5) * pred_noise\n",
        "    eps_t = np.random.normal(size=x_t.shape)\n",
        "    pred = pred+(sigma_t * eps_t)\n",
        "\n",
        "    return pred"
      ],
      "metadata": {
        "id": "H08L41E-skTH"
      },
      "execution_count": 12,
      "outputs": []
    },
    {
      "cell_type": "markdown",
      "source": [
        "Generating Images"
      ],
      "metadata": {
        "id": "f0qTvwcV9WNB"
      }
    },
    {
      "cell_type": "code",
      "source": [
        "inference_timesteps = 10\n",
        "\n",
        "inference_range = range(0, timesteps, timesteps // inference_timesteps)\n",
        "\n",
        "x = tf.random.normal((1,32,32,1))\n",
        "img_list = []\n",
        "img_list.append(np.squeeze(np.squeeze(x, 0),-1))\n",
        "\n",
        "for index, i in tqdm(enumerate(reversed(range(inference_timesteps))), total=inference_timesteps):\n",
        "    t = np.expand_dims(inference_range[i], 0)\n",
        "\n",
        "    pred_noise = unet(x, t)\n",
        "\n",
        "    x = ddim(x, pred_noise, t, 0)\n",
        "    img_list.append(np.squeeze(np.squeeze(x, 0),-1))\n",
        "\n",
        "    if index == 11:\n",
        "        plt.imshow(np.array(np.clip((np.squeeze(np.squeeze(x, 0),-1) + 1) * 127.5, 0, 255), np.uint8), cmap=\"gray\")\n",
        "        plt.show()\n",
        "\n",
        "plt.imshow(np.array(np.clip((x[0] + 1) * 127.5, 0, 255), np.uint8), cmap=\"gray\")\n",
        "plt.show()"
      ],
      "metadata": {
        "id": "FIs1DVCdsnZ7",
        "colab": {
          "base_uri": "https://localhost:8080/",
          "height": 447
        },
        "outputId": "c696c27c-5687-423c-f7a8-dc69496cd097"
      },
      "execution_count": 13,
      "outputs": [
        {
          "output_type": "stream",
          "name": "stderr",
          "text": [
            "100%|██████████| 10/10 [00:02<00:00,  3.64it/s]\n"
          ]
        },
        {
          "output_type": "display_data",
          "data": {
            "text/plain": [
              "<Figure size 640x480 with 1 Axes>"
            ],
            "image/png": "[encoded data removed]"
          },
          "metadata": {}
        }
      ]
    },
    {
      "cell_type": "code",
      "source": [
        "inference_timesteps = 10\n",
        "\n",
        "inference_range = range(0, timesteps, timesteps // inference_timesteps)\n",
        "\n",
        "x = tf.random.normal((1,32,32,1))\n",
        "img_list = []\n",
        "img_list.append(np.squeeze(np.squeeze(x, 0),-1))\n",
        "\n",
        "for index, i in tqdm(enumerate(reversed(range(inference_timesteps))), total=inference_timesteps):\n",
        "    t = np.expand_dims(inference_range[i], 0)\n",
        "\n",
        "    pred_noise = unet(x, t)\n",
        "\n",
        "    x = ddim(x, pred_noise, t, 0)\n",
        "    img_list.append(np.squeeze(np.squeeze(x, 0),-1))\n",
        "\n",
        "    if index == 11:\n",
        "        plt.imshow(np.array(np.clip((np.squeeze(np.squeeze(x, 0),-1) + 1) * 127.5, 0, 255), np.uint8), cmap=\"gray\")\n",
        "        plt.show()\n",
        "\n",
        "plt.imshow(np.array(np.clip((x[0] + 1) * 127.5, 0, 255), np.uint8), cmap=\"gray\")\n",
        "plt.show()"
      ],
      "metadata": {
        "colab": {
          "base_uri": "https://localhost:8080/",
          "height": 447
        },
        "id": "smov2wXxrIna",
        "outputId": "35cd7b92-c28d-4d04-9c41-1e677ae24b3d"
      },
      "execution_count": 14,
      "outputs": [
        {
          "output_type": "stream",
          "name": "stderr",
          "text": [
            "100%|██████████| 10/10 [00:02<00:00,  3.81it/s]\n"
          ]
        },
        {
          "output_type": "display_data",
          "data": {
            "text/plain": [
              "<Figure size 640x480 with 1 Axes>"
            ],
            "image/png": "[encoded data removed]"
          },
          "metadata": {}
        }
      ]
    },
    {
      "cell_type": "code",
      "source": [
        "inference_timesteps = 10\n",
        "\n",
        "inference_range = range(0, timesteps, timesteps // inference_timesteps)\n",
        "\n",
        "x = tf.random.normal((1,32,32,1))\n",
        "img_list = []\n",
        "img_list.append(np.squeeze(np.squeeze(x, 0),-1))\n",
        "\n",
        "for index, i in tqdm(enumerate(reversed(range(inference_timesteps))), total=inference_timesteps):\n",
        "    t = np.expand_dims(inference_range[i], 0)\n",
        "\n",
        "    pred_noise = unet(x, t)\n",
        "\n",
        "    x = ddim(x, pred_noise, t, 0)\n",
        "    img_list.append(np.squeeze(np.squeeze(x, 0),-1))\n",
        "\n",
        "    if index == 11:\n",
        "        plt.imshow(np.array(np.clip((np.squeeze(np.squeeze(x, 0),-1) + 1) * 127.5, 0, 255), np.uint8), cmap=\"gray\")\n",
        "        plt.show()\n",
        "\n",
        "plt.imshow(np.array(np.clip((x[0] + 1) * 127.5, 0, 255), np.uint8), cmap=\"gray\")\n",
        "plt.show()"
      ],
      "metadata": {
        "colab": {
          "base_uri": "https://localhost:8080/",
          "height": 447
        },
        "id": "uWt1rhTMsknd",
        "outputId": "eedf8d33-879b-4dcc-c2f1-7de7cb84a3ec"
      },
      "execution_count": 15,
      "outputs": [
        {
          "output_type": "stream",
          "name": "stderr",
          "text": [
            "100%|██████████| 10/10 [00:02<00:00,  3.76it/s]\n"
          ]
        },
        {
          "output_type": "display_data",
          "data": {
            "text/plain": [
              "<Figure size 640x480 with 1 Axes>"
            ],
            "image/png": "[encoded data removed]"
          },
          "metadata": {}
        }
      ]
    },
    {
      "cell_type": "code",
      "source": [
        "inference_timesteps = 10\n",
        "\n",
        "inference_range = range(0, timesteps, timesteps // inference_timesteps)\n",
        "\n",
        "x = tf.random.normal((1,32,32,1))\n",
        "img_list = []\n",
        "img_list.append(np.squeeze(np.squeeze(x, 0),-1))\n",
        "\n",
        "for index, i in tqdm(enumerate(reversed(range(inference_timesteps))), total=inference_timesteps):\n",
        "    t = np.expand_dims(inference_range[i], 0)\n",
        "\n",
        "    pred_noise = unet(x, t)\n",
        "\n",
        "    x = ddim(x, pred_noise, t, 0)\n",
        "    img_list.append(np.squeeze(np.squeeze(x, 0),-1))\n",
        "\n",
        "    if index == 11:\n",
        "        plt.imshow(np.array(np.clip((np.squeeze(np.squeeze(x, 0),-1) + 1) * 127.5, 0, 255), np.uint8), cmap=\"gray\")\n",
        "        plt.show()\n",
        "\n",
        "plt.imshow(np.array(np.clip((x[0] + 1) * 127.5, 0, 255), np.uint8), cmap=\"gray\")\n",
        "plt.show()"
      ],
      "metadata": {
        "colab": {
          "base_uri": "https://localhost:8080/",
          "height": 447
        },
        "id": "cP4uCjhhsle7",
        "outputId": "4ae9d2fa-5079-4f42-d253-2cf3688bf430"
      },
      "execution_count": 16,
      "outputs": [
        {
          "output_type": "stream",
          "name": "stderr",
          "text": [
            "100%|██████████| 10/10 [00:03<00:00,  3.16it/s]\n"
          ]
        },
        {
          "output_type": "display_data",
          "data": {
            "text/plain": [
              "<Figure size 640x480 with 1 Axes>"
            ],
            "image/png": "[encoded data removed]"
          },
          "metadata": {}
        }
      ]
    },
    {
      "cell_type": "code",
      "source": [
        "inference_timesteps = 10\n",
        "\n",
        "inference_range = range(0, timesteps, timesteps // inference_timesteps)\n",
        "\n",
        "x = tf.random.normal((1,32,32,1))\n",
        "img_list = []\n",
        "img_list.append(np.squeeze(np.squeeze(x, 0),-1))\n",
        "\n",
        "for index, i in tqdm(enumerate(reversed(range(inference_timesteps))), total=inference_timesteps):\n",
        "    t = np.expand_dims(inference_range[i], 0)\n",
        "\n",
        "    pred_noise = unet(x, t)\n",
        "\n",
        "    x = ddim(x, pred_noise, t, 0)\n",
        "    img_list.append(np.squeeze(np.squeeze(x, 0),-1))\n",
        "\n",
        "    if index == 11:\n",
        "        plt.imshow(np.array(np.clip((np.squeeze(np.squeeze(x, 0),-1) + 1) * 127.5, 0, 255), np.uint8), cmap=\"gray\")\n",
        "        plt.show()\n",
        "\n",
        "plt.imshow(np.array(np.clip((x[0] + 1) * 127.5, 0, 255), np.uint8), cmap=\"gray\")\n",
        "plt.show()"
      ],
      "metadata": {
        "colab": {
          "base_uri": "https://localhost:8080/",
          "height": 447
        },
        "id": "YlVXrmvZsmUR",
        "outputId": "076a2710-01a2-4447-e943-faf967772826"
      },
      "execution_count": 17,
      "outputs": [
        {
          "output_type": "stream",
          "name": "stderr",
          "text": [
            "100%|██████████| 10/10 [00:02<00:00,  3.80it/s]\n"
          ]
        },
        {
          "output_type": "display_data",
          "data": {
            "text/plain": [
              "<Figure size 640x480 with 1 Axes>"
            ],
            "image/png": "[encoded data removed]"
          },
          "metadata": {}
        }
      ]
    },
    {
      "cell_type": "code",
      "source": [],
      "metadata": {
        "id": "NTn8t3lisopv"
      },
      "execution_count": null,
      "outputs": []
    }
  ]
}